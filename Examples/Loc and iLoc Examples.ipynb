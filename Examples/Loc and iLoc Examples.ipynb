{
 "cells": [
  {
   "cell_type": "code",
   "execution_count": 71,
   "id": "765248b5",
   "metadata": {},
   "outputs": [],
   "source": [
    "import pandas as pd"
   ]
  },
  {
   "cell_type": "markdown",
   "id": "cda20e4e",
   "metadata": {},
   "source": [
    "# Pandas Notes"
   ]
  },
  {
   "cell_type": "code",
   "execution_count": 100,
   "id": "38733a09",
   "metadata": {
    "scrolled": true
   },
   "outputs": [
    {
     "data": {
      "text/html": [
       "<div>\n",
       "<style scoped>\n",
       "    .dataframe tbody tr th:only-of-type {\n",
       "        vertical-align: middle;\n",
       "    }\n",
       "\n",
       "    .dataframe tbody tr th {\n",
       "        vertical-align: top;\n",
       "    }\n",
       "\n",
       "    .dataframe thead th {\n",
       "        text-align: right;\n",
       "    }\n",
       "</style>\n",
       "<table border=\"1\" class=\"dataframe\">\n",
       "  <thead>\n",
       "    <tr style=\"text-align: right;\">\n",
       "      <th></th>\n",
       "      <th>numbers</th>\n",
       "      <th>quarters</th>\n",
       "    </tr>\n",
       "    <tr>\n",
       "      <th>letters</th>\n",
       "      <th></th>\n",
       "      <th></th>\n",
       "    </tr>\n",
       "  </thead>\n",
       "  <tbody>\n",
       "    <tr>\n",
       "      <th>A</th>\n",
       "      <td>10</td>\n",
       "      <td>0.00</td>\n",
       "    </tr>\n",
       "    <tr>\n",
       "      <th>B</th>\n",
       "      <td>20</td>\n",
       "      <td>0.25</td>\n",
       "    </tr>\n",
       "    <tr>\n",
       "      <th>C</th>\n",
       "      <td>30</td>\n",
       "      <td>0.50</td>\n",
       "    </tr>\n",
       "    <tr>\n",
       "      <th>D</th>\n",
       "      <td>40</td>\n",
       "      <td>0.75</td>\n",
       "    </tr>\n",
       "    <tr>\n",
       "      <th>E</th>\n",
       "      <td>50</td>\n",
       "      <td>1.00</td>\n",
       "    </tr>\n",
       "    <tr>\n",
       "      <th>F</th>\n",
       "      <td>60</td>\n",
       "      <td>1.25</td>\n",
       "    </tr>\n",
       "    <tr>\n",
       "      <th>G</th>\n",
       "      <td>70</td>\n",
       "      <td>1.50</td>\n",
       "    </tr>\n",
       "    <tr>\n",
       "      <th>H</th>\n",
       "      <td>80</td>\n",
       "      <td>1.75</td>\n",
       "    </tr>\n",
       "    <tr>\n",
       "      <th>I</th>\n",
       "      <td>90</td>\n",
       "      <td>2.00</td>\n",
       "    </tr>\n",
       "    <tr>\n",
       "      <th>J</th>\n",
       "      <td>100</td>\n",
       "      <td>2.25</td>\n",
       "    </tr>\n",
       "  </tbody>\n",
       "</table>\n",
       "</div>"
      ],
      "text/plain": [
       "         numbers  quarters\n",
       "letters                   \n",
       "A             10      0.00\n",
       "B             20      0.25\n",
       "C             30      0.50\n",
       "D             40      0.75\n",
       "E             50      1.00\n",
       "F             60      1.25\n",
       "G             70      1.50\n",
       "H             80      1.75\n",
       "I             90      2.00\n",
       "J            100      2.25"
      ]
     },
     "execution_count": 100,
     "metadata": {},
     "output_type": "execute_result"
    }
   ],
   "source": [
    "# Here we will create some dummy data to use as an example\n",
    "dummy_data_df = pd.DataFrame({\n",
    "    \"letters\":list(\"ABCDEFGHIJ\"),\n",
    "    \"numbers\":[(x + 1) * 10 for x in range(10)],\n",
    "    \"quarters\":[0.25*x for x in range(10)],\n",
    "})\n",
    "# we will use the letters column as the index\n",
    "dummy_data_df = dummy_data_df.set_index(\"letters\")\n",
    "#\n",
    "dummy_data_df"
   ]
  },
  {
   "cell_type": "markdown",
   "id": "25a5feda",
   "metadata": {},
   "source": [
    "# DataFrames and Loc\n",
    "\n",
    "You can use loc to grab data from dataframes at locations\n",
    "\n",
    "Think of how you want to get the row \"B\" and column \"numbers\", we would expect the output to be 20. So we can use loc to ask the dataframe to give us the information by giving it a location. (think loc as shorthad for location)"
   ]
  },
  {
   "cell_type": "code",
   "execution_count": 55,
   "id": "afa90e42",
   "metadata": {
    "scrolled": true
   },
   "outputs": [
    {
     "name": "stdout",
     "output_type": "stream",
     "text": [
      "numbers            30.0\n",
      "quarter_pi_sine     1.0\n",
      "Name: C, dtype: float64\n"
     ]
    }
   ],
   "source": [
    "# firstly, let's get a row in the dataframe\n",
    "# here, we will grab the row \"C\"\n",
    "print(dummy_data_df.loc[\"C\"])"
   ]
  },
  {
   "cell_type": "code",
   "execution_count": 58,
   "id": "52ce6428",
   "metadata": {
    "scrolled": true
   },
   "outputs": [
    {
     "name": "stdout",
     "output_type": "stream",
     "text": [
      "numbers            40.000\n",
      "quarter_pi_sine     0.707\n",
      "Name: D, dtype: float64\n"
     ]
    }
   ],
   "source": [
    "# we can see the data loc[\"C\"] gave us is the C row\n",
    "# if we subsitute any letter within our dataframe we can\n",
    "# get any row we want.\n",
    "\n",
    "# NOTE: our index column for the dataframe is a string\n",
    "# so we use the \" or ' charachters. For example \"A\", 'B', \"C\", 'D'\n",
    "print(dummy_data_df.loc['D'])"
   ]
  },
  {
   "cell_type": "code",
   "execution_count": 66,
   "id": "dc638b67",
   "metadata": {},
   "outputs": [
    {
     "data": {
      "text/plain": [
       "numbers            40.000\n",
       "quarter_pi_sine     0.707\n",
       "Name: D, dtype: float64"
      ]
     },
     "execution_count": 66,
     "metadata": {},
     "output_type": "execute_result"
    }
   ],
   "source": [
    "# the pattern to recognize \n",
    "\n",
    "#  dataframe\n",
    "#    |   \n",
    "#    |    open square bracket\n",
    "#    |           |   \n",
    "#    |           |     selected row\n",
    "#    |           |      |     \n",
    "#    |           |      |     closed square bracket\n",
    "#    |           |      |      |  \n",
    "dummy_data_df.loc[     'D'     ]"
   ]
  },
  {
   "cell_type": "code",
   "execution_count": 59,
   "id": "09c22026",
   "metadata": {},
   "outputs": [
    {
     "name": "stdout",
     "output_type": "stream",
     "text": [
      "10\n"
     ]
    }
   ],
   "source": [
    "# next, we can also filter by both the row AND column like so\n",
    "print(dummy_data_df.loc[\"A\",\"numbers\"])"
   ]
  },
  {
   "cell_type": "code",
   "execution_count": null,
   "id": "e34e2c6d",
   "metadata": {},
   "outputs": [],
   "source": [
    "# the pattern to recognize \n",
    "\n",
    "#  dataframe\n",
    "#    | \n",
    "#    |    open square bracket\n",
    "#    |           |\n",
    "#    |           |     selected row\n",
    "#    |           |      |   \n",
    "#    |           |      |     seperator\n",
    "#    |           |      |      |\n",
    "#    |           |      |      |      selected column\n",
    "#    |           |      |      |        |\n",
    "#    |           |      |      |        |         closed square bracket\n",
    "#    |           |      |      |        |          | \n",
    "dummy_data_df.loc[     \"A\"     ,    \"numbers\"      ]"
   ]
  },
  {
   "cell_type": "code",
   "execution_count": 73,
   "id": "588a32a9",
   "metadata": {},
   "outputs": [
    {
     "name": "stdout",
     "output_type": "stream",
     "text": [
      "0.0\n"
     ]
    }
   ],
   "source": [
    "# what we see here is that we are just getting back the values at the\n",
    "# intersection of A and numbers\n",
    "\n",
    "# more examples\n",
    "print(dummy_data_df.loc[\"A\",\"quarters\"])"
   ]
  },
  {
   "cell_type": "code",
   "execution_count": 90,
   "id": "69429329",
   "metadata": {},
   "outputs": [
    {
     "name": "stdout",
     "output_type": "stream",
     "text": [
      "command: dummy_data_df.loc['A'] --->\n",
      "numbers     10.0\n",
      "quarters     0.0\n",
      "Name: A, dtype: float64\n",
      "\n",
      "command: dummy_data_df.loc['B'] --->\n",
      "numbers     20.00\n",
      "quarters     0.25\n",
      "Name: B, dtype: float64\n",
      "\n",
      "command: dummy_data_df.loc['C'] --->\n",
      "numbers     30.0\n",
      "quarters     0.5\n",
      "Name: C, dtype: float64\n"
     ]
    }
   ],
   "source": [
    "# But, what if you wanted to get more data, like, say, row A, B, and C?\n",
    "print(\"command: dummy_data_df.loc['A'] --->\")\n",
    "print(dummy_data_df.loc['A'])\n",
    "print()\n",
    "print(\"command: dummy_data_df.loc['B'] --->\")\n",
    "print(dummy_data_df.loc['B'])\n",
    "print()\n",
    "print(\"command: dummy_data_df.loc['C'] --->\")\n",
    "print(dummy_data_df.loc['C'])"
   ]
  },
  {
   "cell_type": "code",
   "execution_count": 75,
   "id": "ca81f2e3",
   "metadata": {},
   "outputs": [
    {
     "name": "stdout",
     "output_type": "stream",
     "text": [
      "         numbers  quarters\n",
      "letters                   \n",
      "A             10      0.00\n",
      "B             20      0.25\n",
      "C             30      0.50\n"
     ]
    }
   ],
   "source": [
    "# We can use lists, to tell loc to grab multiple rows like so\n",
    "print(dummy_data_df.loc[[\"A\",\"B\",\"C\"]])"
   ]
  },
  {
   "cell_type": "code",
   "execution_count": 76,
   "id": "0049b404",
   "metadata": {},
   "outputs": [
    {
     "data": {
      "text/html": [
       "<div>\n",
       "<style scoped>\n",
       "    .dataframe tbody tr th:only-of-type {\n",
       "        vertical-align: middle;\n",
       "    }\n",
       "\n",
       "    .dataframe tbody tr th {\n",
       "        vertical-align: top;\n",
       "    }\n",
       "\n",
       "    .dataframe thead th {\n",
       "        text-align: right;\n",
       "    }\n",
       "</style>\n",
       "<table border=\"1\" class=\"dataframe\">\n",
       "  <thead>\n",
       "    <tr style=\"text-align: right;\">\n",
       "      <th></th>\n",
       "      <th>numbers</th>\n",
       "      <th>quarters</th>\n",
       "    </tr>\n",
       "    <tr>\n",
       "      <th>letters</th>\n",
       "      <th></th>\n",
       "      <th></th>\n",
       "    </tr>\n",
       "  </thead>\n",
       "  <tbody>\n",
       "    <tr>\n",
       "      <th>A</th>\n",
       "      <td>10</td>\n",
       "      <td>0.00</td>\n",
       "    </tr>\n",
       "    <tr>\n",
       "      <th>B</th>\n",
       "      <td>20</td>\n",
       "      <td>0.25</td>\n",
       "    </tr>\n",
       "    <tr>\n",
       "      <th>C</th>\n",
       "      <td>30</td>\n",
       "      <td>0.50</td>\n",
       "    </tr>\n",
       "  </tbody>\n",
       "</table>\n",
       "</div>"
      ],
      "text/plain": [
       "         numbers  quarters\n",
       "letters                   \n",
       "A             10      0.00\n",
       "B             20      0.25\n",
       "C             30      0.50"
      ]
     },
     "execution_count": 76,
     "metadata": {},
     "output_type": "execute_result"
    }
   ],
   "source": [
    "# the pattern to recognize \n",
    "\n",
    "#  dataframe\n",
    "#    | \n",
    "#    |    open square bracket\n",
    "#    |           |                      \n",
    "#    |           |         selection row list            \n",
    "#    |           |           |             \n",
    "#    |           |      _____|_____             \n",
    "#    |           |     |           \\     closed square bracket\n",
    "#    |           |     |           \\      |\n",
    "dummy_data_df.loc[     [\"A\",\"B\",\"C\"]      ]"
   ]
  },
  {
   "cell_type": "code",
   "execution_count": 79,
   "id": "c6c75d7e",
   "metadata": {},
   "outputs": [
    {
     "name": "stdout",
     "output_type": "stream",
     "text": [
      "         numbers  quarters\n",
      "letters                   \n",
      "A             10      0.00\n",
      "B             20      0.25\n",
      "C             30      0.50\n"
     ]
    }
   ],
   "source": [
    "# check out how the pattern is the same when\n",
    "# we create a list, then send it thru\n",
    "select_these_rows = [\"A\",\"B\",\"C\"]\n",
    "print(dummy_data_df.loc[select_these_rows])"
   ]
  },
  {
   "cell_type": "code",
   "execution_count": 80,
   "id": "0f6f207b",
   "metadata": {
    "scrolled": true
   },
   "outputs": [
    {
     "data": {
      "text/html": [
       "<div>\n",
       "<style scoped>\n",
       "    .dataframe tbody tr th:only-of-type {\n",
       "        vertical-align: middle;\n",
       "    }\n",
       "\n",
       "    .dataframe tbody tr th {\n",
       "        vertical-align: top;\n",
       "    }\n",
       "\n",
       "    .dataframe thead th {\n",
       "        text-align: right;\n",
       "    }\n",
       "</style>\n",
       "<table border=\"1\" class=\"dataframe\">\n",
       "  <thead>\n",
       "    <tr style=\"text-align: right;\">\n",
       "      <th></th>\n",
       "      <th>numbers</th>\n",
       "      <th>quarters</th>\n",
       "    </tr>\n",
       "    <tr>\n",
       "      <th>letters</th>\n",
       "      <th></th>\n",
       "      <th></th>\n",
       "    </tr>\n",
       "  </thead>\n",
       "  <tbody>\n",
       "    <tr>\n",
       "      <th>A</th>\n",
       "      <td>10</td>\n",
       "      <td>0.00</td>\n",
       "    </tr>\n",
       "    <tr>\n",
       "      <th>B</th>\n",
       "      <td>20</td>\n",
       "      <td>0.25</td>\n",
       "    </tr>\n",
       "    <tr>\n",
       "      <th>C</th>\n",
       "      <td>30</td>\n",
       "      <td>0.50</td>\n",
       "    </tr>\n",
       "  </tbody>\n",
       "</table>\n",
       "</div>"
      ],
      "text/plain": [
       "         numbers  quarters\n",
       "letters                   \n",
       "A             10      0.00\n",
       "B             20      0.25\n",
       "C             30      0.50"
      ]
     },
     "execution_count": 80,
     "metadata": {},
     "output_type": "execute_result"
    }
   ],
   "source": [
    "# the pattern to recognize \n",
    "\n",
    "#  dataframe\n",
    "#    | \n",
    "#    |    open square bracket\n",
    "#    |           |                              \n",
    "#    |           |         selected rows list          \n",
    "#    |           |            |                       \n",
    "#    |           |            |              closed square bracket\n",
    "#    |           |            |               | \n",
    "dummy_data_df.loc[     select_these_rows      ]"
   ]
  },
  {
   "cell_type": "code",
   "execution_count": 81,
   "id": "bee8ce5f",
   "metadata": {},
   "outputs": [
    {
     "name": "stdout",
     "output_type": "stream",
     "text": [
      "         numbers  quarters\n",
      "letters                   \n",
      "A             10      0.00\n",
      "B             20      0.25\n",
      "C             30      0.50\n"
     ]
    }
   ],
   "source": [
    "# Likewise we can also grab multiple rows AND mulitple columns\n",
    "print(dummy_data_df.loc[[\"A\",\"B\",\"C\"],[\"numbers\",\"quarters\"]])"
   ]
  },
  {
   "cell_type": "code",
   "execution_count": 82,
   "id": "797f40a1",
   "metadata": {},
   "outputs": [
    {
     "data": {
      "text/html": [
       "<div>\n",
       "<style scoped>\n",
       "    .dataframe tbody tr th:only-of-type {\n",
       "        vertical-align: middle;\n",
       "    }\n",
       "\n",
       "    .dataframe tbody tr th {\n",
       "        vertical-align: top;\n",
       "    }\n",
       "\n",
       "    .dataframe thead th {\n",
       "        text-align: right;\n",
       "    }\n",
       "</style>\n",
       "<table border=\"1\" class=\"dataframe\">\n",
       "  <thead>\n",
       "    <tr style=\"text-align: right;\">\n",
       "      <th></th>\n",
       "      <th>numbers</th>\n",
       "      <th>quarters</th>\n",
       "    </tr>\n",
       "    <tr>\n",
       "      <th>letters</th>\n",
       "      <th></th>\n",
       "      <th></th>\n",
       "    </tr>\n",
       "  </thead>\n",
       "  <tbody>\n",
       "    <tr>\n",
       "      <th>A</th>\n",
       "      <td>10</td>\n",
       "      <td>0.00</td>\n",
       "    </tr>\n",
       "    <tr>\n",
       "      <th>B</th>\n",
       "      <td>20</td>\n",
       "      <td>0.25</td>\n",
       "    </tr>\n",
       "    <tr>\n",
       "      <th>C</th>\n",
       "      <td>30</td>\n",
       "      <td>0.50</td>\n",
       "    </tr>\n",
       "  </tbody>\n",
       "</table>\n",
       "</div>"
      ],
      "text/plain": [
       "         numbers  quarters\n",
       "letters                   \n",
       "A             10      0.00\n",
       "B             20      0.25\n",
       "C             30      0.50"
      ]
     },
     "execution_count": 82,
     "metadata": {},
     "output_type": "execute_result"
    }
   ],
   "source": [
    "# the pattern to recognize \n",
    "\n",
    "#  dataframe\n",
    "#    | \n",
    "#    |    open square bracket\n",
    "#    |           |                      \n",
    "#    |           |         selection row list            \n",
    "#    |           |           |             \n",
    "#    |           |           |           seperator\n",
    "#    |           |      _____|_____      |       \n",
    "#    |           |     |           \\     |             selection columns list  \n",
    "#    |           |     |           \\     |               |\n",
    "#    |           |     |           \\     |      _________|__________      closed square bracket\n",
    "#    |           |     |           \\     |     |                    \\     |\n",
    "dummy_data_df.loc[     [\"A\",\"B\",\"C\"]     ,     [\"numbers\",\"quarters\"]     ]"
   ]
  },
  {
   "cell_type": "markdown",
   "id": "faa3183a",
   "metadata": {},
   "source": [
    "# DataFrames and iLoc\n",
    "\n",
    "You can use iloc to grab data from dataframes at locations JUST like loc\n",
    "\n",
    "iloc is diffrent from loc in that:\n",
    "    iloc pretend that all the rows and columns are numbered indexes\n",
    "    \n",
    "so we can access rows and columns AS IF they were numbered"
   ]
  },
  {
   "cell_type": "code",
   "execution_count": 89,
   "id": "1c3f11c1",
   "metadata": {},
   "outputs": [
    {
     "name": "stdout",
     "output_type": "stream",
     "text": [
      "command: dummy_data_df.iloc[0] --->\n",
      "numbers     10.0\n",
      "quarters     0.0\n",
      "Name: A, dtype: float64\n",
      "\n",
      "command: dummy_data_df.loc['A'] --->\n",
      "numbers     10.0\n",
      "quarters     0.0\n",
      "Name: A, dtype: float64\n"
     ]
    }
   ],
   "source": [
    "# Check out how we can grab the first row with the zero'th index\n",
    "print(\"command: dummy_data_df.iloc[0] --->\")\n",
    "print(dummy_data_df.iloc[0])\n",
    "print()\n",
    "# see how the data is the same as loc for the first row \"A\"\n",
    "print(\"command: dummy_data_df.loc['A'] --->\")\n",
    "print(dummy_data_df.loc['A'])"
   ]
  },
  {
   "cell_type": "code",
   "execution_count": 88,
   "id": "6ec6800c",
   "metadata": {},
   "outputs": [
    {
     "name": "stdout",
     "output_type": "stream",
     "text": [
      "command: dummy_data_df.iloc[0,0] --->\n",
      "10\n",
      "\n",
      "command: dummy_data_df.iloc[[0,1]] --->\n",
      "         numbers  quarters\n",
      "letters                   \n",
      "A             10      0.00\n",
      "B             20      0.25\n",
      "\n",
      "command: dummy_data_df.iloc[[0,1],[0,1]] --->\n",
      "         numbers  quarters\n",
      "letters                   \n",
      "A             10      0.00\n",
      "B             20      0.25\n"
     ]
    }
   ],
   "source": [
    "# we can use the same logic to apply everything above from loc\n",
    "print(\"command: dummy_data_df.iloc[0,0] --->\")\n",
    "print(dummy_data_df.iloc[0,0])\n",
    "print()\n",
    "print(\"command: dummy_data_df.iloc[[0,1]] --->\")\n",
    "print(dummy_data_df.iloc[[0,1]])\n",
    "print()\n",
    "print(\"command: dummy_data_df.iloc[[0,1],[0,1]] --->\")\n",
    "print(dummy_data_df.iloc[[0,1],[0,1]])"
   ]
  },
  {
   "cell_type": "code",
   "execution_count": 93,
   "id": "a5274f8d",
   "metadata": {},
   "outputs": [
    {
     "name": "stdout",
     "output_type": "stream",
     "text": [
      "command: dummy_data_df.iloc[range(4)] --->\n",
      "         numbers  quarters\n",
      "letters                   \n",
      "A             10      0.00\n",
      "B             20      0.25\n",
      "C             30      0.50\n",
      "D             40      0.75\n",
      "\n",
      "command: dummy_data_df.iloc[range(2),range(2)] --->\n",
      "         numbers  quarters\n",
      "letters                   \n",
      "A             10      0.00\n",
      "B             20      0.25\n"
     ]
    }
   ],
   "source": [
    "# the power of iloc is really most usefull with ranges\n",
    "# check this out!\n",
    "print(\"command: dummy_data_df.iloc[range(4)] --->\")\n",
    "print(dummy_data_df.iloc[range(4)])\n",
    "print()\n",
    "print(\"command: dummy_data_df.iloc[range(2),range(2)] --->\")\n",
    "print(dummy_data_df.iloc[range(2),range(2)])"
   ]
  },
  {
   "cell_type": "code",
   "execution_count": 101,
   "id": "5df36a5a",
   "metadata": {},
   "outputs": [
    {
     "data": {
      "text/html": [
       "<div>\n",
       "<style scoped>\n",
       "    .dataframe tbody tr th:only-of-type {\n",
       "        vertical-align: middle;\n",
       "    }\n",
       "\n",
       "    .dataframe tbody tr th {\n",
       "        vertical-align: top;\n",
       "    }\n",
       "\n",
       "    .dataframe thead th {\n",
       "        text-align: right;\n",
       "    }\n",
       "</style>\n",
       "<table border=\"1\" class=\"dataframe\">\n",
       "  <thead>\n",
       "    <tr style=\"text-align: right;\">\n",
       "      <th></th>\n",
       "      <th>numbers</th>\n",
       "      <th>quarters</th>\n",
       "    </tr>\n",
       "    <tr>\n",
       "      <th>letters</th>\n",
       "      <th></th>\n",
       "      <th></th>\n",
       "    </tr>\n",
       "  </thead>\n",
       "  <tbody>\n",
       "    <tr>\n",
       "      <th>A</th>\n",
       "      <td>10</td>\n",
       "      <td>0.00</td>\n",
       "    </tr>\n",
       "    <tr>\n",
       "      <th>B</th>\n",
       "      <td>20</td>\n",
       "      <td>0.25</td>\n",
       "    </tr>\n",
       "    <tr>\n",
       "      <th>C</th>\n",
       "      <td>30</td>\n",
       "      <td>0.50</td>\n",
       "    </tr>\n",
       "    <tr>\n",
       "      <th>D</th>\n",
       "      <td>40</td>\n",
       "      <td>0.75</td>\n",
       "    </tr>\n",
       "    <tr>\n",
       "      <th>E</th>\n",
       "      <td>50</td>\n",
       "      <td>1.00</td>\n",
       "    </tr>\n",
       "    <tr>\n",
       "      <th>F</th>\n",
       "      <td>60</td>\n",
       "      <td>1.25</td>\n",
       "    </tr>\n",
       "    <tr>\n",
       "      <th>G</th>\n",
       "      <td>70</td>\n",
       "      <td>1.50</td>\n",
       "    </tr>\n",
       "    <tr>\n",
       "      <th>H</th>\n",
       "      <td>80</td>\n",
       "      <td>1.75</td>\n",
       "    </tr>\n",
       "    <tr>\n",
       "      <th>I</th>\n",
       "      <td>90</td>\n",
       "      <td>2.00</td>\n",
       "    </tr>\n",
       "    <tr>\n",
       "      <th>J</th>\n",
       "      <td>100</td>\n",
       "      <td>2.25</td>\n",
       "    </tr>\n",
       "  </tbody>\n",
       "</table>\n",
       "</div>"
      ],
      "text/plain": [
       "         numbers  quarters\n",
       "letters                   \n",
       "A             10      0.00\n",
       "B             20      0.25\n",
       "C             30      0.50\n",
       "D             40      0.75\n",
       "E             50      1.00\n",
       "F             60      1.25\n",
       "G             70      1.50\n",
       "H             80      1.75\n",
       "I             90      2.00\n",
       "J            100      2.25"
      ]
     },
     "execution_count": 101,
     "metadata": {},
     "output_type": "execute_result"
    }
   ],
   "source": [
    "# Lastly, we can also ASSIGN with the loc and iloc\n",
    "# look at the values in this dataframe\n",
    "dummy_data_df"
   ]
  },
  {
   "cell_type": "code",
   "execution_count": 102,
   "id": "f642d735",
   "metadata": {},
   "outputs": [
    {
     "data": {
      "text/html": [
       "<div>\n",
       "<style scoped>\n",
       "    .dataframe tbody tr th:only-of-type {\n",
       "        vertical-align: middle;\n",
       "    }\n",
       "\n",
       "    .dataframe tbody tr th {\n",
       "        vertical-align: top;\n",
       "    }\n",
       "\n",
       "    .dataframe thead th {\n",
       "        text-align: right;\n",
       "    }\n",
       "</style>\n",
       "<table border=\"1\" class=\"dataframe\">\n",
       "  <thead>\n",
       "    <tr style=\"text-align: right;\">\n",
       "      <th></th>\n",
       "      <th>numbers</th>\n",
       "      <th>quarters</th>\n",
       "    </tr>\n",
       "    <tr>\n",
       "      <th>letters</th>\n",
       "      <th></th>\n",
       "      <th></th>\n",
       "    </tr>\n",
       "  </thead>\n",
       "  <tbody>\n",
       "    <tr>\n",
       "      <th>A</th>\n",
       "      <td>2000</td>\n",
       "      <td>0.00</td>\n",
       "    </tr>\n",
       "    <tr>\n",
       "      <th>B</th>\n",
       "      <td>20</td>\n",
       "      <td>0.25</td>\n",
       "    </tr>\n",
       "    <tr>\n",
       "      <th>C</th>\n",
       "      <td>30</td>\n",
       "      <td>0.50</td>\n",
       "    </tr>\n",
       "    <tr>\n",
       "      <th>D</th>\n",
       "      <td>40</td>\n",
       "      <td>0.75</td>\n",
       "    </tr>\n",
       "    <tr>\n",
       "      <th>E</th>\n",
       "      <td>50</td>\n",
       "      <td>1.00</td>\n",
       "    </tr>\n",
       "    <tr>\n",
       "      <th>F</th>\n",
       "      <td>60</td>\n",
       "      <td>1.25</td>\n",
       "    </tr>\n",
       "    <tr>\n",
       "      <th>G</th>\n",
       "      <td>70</td>\n",
       "      <td>1.50</td>\n",
       "    </tr>\n",
       "    <tr>\n",
       "      <th>H</th>\n",
       "      <td>80</td>\n",
       "      <td>1.75</td>\n",
       "    </tr>\n",
       "    <tr>\n",
       "      <th>I</th>\n",
       "      <td>90</td>\n",
       "      <td>2.00</td>\n",
       "    </tr>\n",
       "    <tr>\n",
       "      <th>J</th>\n",
       "      <td>100</td>\n",
       "      <td>2.25</td>\n",
       "    </tr>\n",
       "  </tbody>\n",
       "</table>\n",
       "</div>"
      ],
      "text/plain": [
       "         numbers  quarters\n",
       "letters                   \n",
       "A           2000      0.00\n",
       "B             20      0.25\n",
       "C             30      0.50\n",
       "D             40      0.75\n",
       "E             50      1.00\n",
       "F             60      1.25\n",
       "G             70      1.50\n",
       "H             80      1.75\n",
       "I             90      2.00\n",
       "J            100      2.25"
      ]
     },
     "execution_count": 102,
     "metadata": {},
     "output_type": "execute_result"
    }
   ],
   "source": [
    "# we can change the first row number\n",
    "dummy_data_df.loc[\"A\",\"numbers\"] = 2000\n",
    "# look at the values in this dataframe\n",
    "dummy_data_df"
   ]
  },
  {
   "cell_type": "code",
   "execution_count": 103,
   "id": "a89709f2",
   "metadata": {},
   "outputs": [
    {
     "data": {
      "text/html": [
       "<div>\n",
       "<style scoped>\n",
       "    .dataframe tbody tr th:only-of-type {\n",
       "        vertical-align: middle;\n",
       "    }\n",
       "\n",
       "    .dataframe tbody tr th {\n",
       "        vertical-align: top;\n",
       "    }\n",
       "\n",
       "    .dataframe thead th {\n",
       "        text-align: right;\n",
       "    }\n",
       "</style>\n",
       "<table border=\"1\" class=\"dataframe\">\n",
       "  <thead>\n",
       "    <tr style=\"text-align: right;\">\n",
       "      <th></th>\n",
       "      <th>numbers</th>\n",
       "      <th>quarters</th>\n",
       "    </tr>\n",
       "    <tr>\n",
       "      <th>letters</th>\n",
       "      <th></th>\n",
       "      <th></th>\n",
       "    </tr>\n",
       "  </thead>\n",
       "  <tbody>\n",
       "    <tr>\n",
       "      <th>A</th>\n",
       "      <td>2000</td>\n",
       "      <td>0.00</td>\n",
       "    </tr>\n",
       "    <tr>\n",
       "      <th>B</th>\n",
       "      <td>20</td>\n",
       "      <td>0.25</td>\n",
       "    </tr>\n",
       "    <tr>\n",
       "      <th>C</th>\n",
       "      <td>30</td>\n",
       "      <td>0.50</td>\n",
       "    </tr>\n",
       "    <tr>\n",
       "      <th>D</th>\n",
       "      <td>9000</td>\n",
       "      <td>0.75</td>\n",
       "    </tr>\n",
       "    <tr>\n",
       "      <th>E</th>\n",
       "      <td>50</td>\n",
       "      <td>1.00</td>\n",
       "    </tr>\n",
       "    <tr>\n",
       "      <th>F</th>\n",
       "      <td>60</td>\n",
       "      <td>1.25</td>\n",
       "    </tr>\n",
       "    <tr>\n",
       "      <th>G</th>\n",
       "      <td>70</td>\n",
       "      <td>1.50</td>\n",
       "    </tr>\n",
       "    <tr>\n",
       "      <th>H</th>\n",
       "      <td>80</td>\n",
       "      <td>1.75</td>\n",
       "    </tr>\n",
       "    <tr>\n",
       "      <th>I</th>\n",
       "      <td>90</td>\n",
       "      <td>2.00</td>\n",
       "    </tr>\n",
       "    <tr>\n",
       "      <th>J</th>\n",
       "      <td>100</td>\n",
       "      <td>2.25</td>\n",
       "    </tr>\n",
       "  </tbody>\n",
       "</table>\n",
       "</div>"
      ],
      "text/plain": [
       "         numbers  quarters\n",
       "letters                   \n",
       "A           2000      0.00\n",
       "B             20      0.25\n",
       "C             30      0.50\n",
       "D           9000      0.75\n",
       "E             50      1.00\n",
       "F             60      1.25\n",
       "G             70      1.50\n",
       "H             80      1.75\n",
       "I             90      2.00\n",
       "J            100      2.25"
      ]
     },
     "execution_count": 103,
     "metadata": {},
     "output_type": "execute_result"
    }
   ],
   "source": [
    "# we can also change the third row number with iloc (3th index row and 0th index column)\n",
    "dummy_data_df.iloc[3,0] = 9000\n",
    "# look at the values in this dataframe\n",
    "dummy_data_df"
   ]
  },
  {
   "cell_type": "code",
   "execution_count": null,
   "id": "49e08609",
   "metadata": {},
   "outputs": [],
   "source": []
  }
 ],
 "metadata": {
  "kernelspec": {
   "display_name": "Python 3 (ipykernel)",
   "language": "python",
   "name": "python3"
  },
  "language_info": {
   "codemirror_mode": {
    "name": "ipython",
    "version": 3
   },
   "file_extension": ".py",
   "mimetype": "text/x-python",
   "name": "python",
   "nbconvert_exporter": "python",
   "pygments_lexer": "ipython3",
   "version": "3.9.9"
  }
 },
 "nbformat": 4,
 "nbformat_minor": 5
}
